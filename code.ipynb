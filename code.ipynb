{
 "cells": [
  {
   "cell_type": "code",
   "execution_count": null,
   "metadata": {},
   "outputs": [],
   "source": [
    "import os\n",
    "os.environ[\"CUDA_DEVICE_ORDER\"] = \"PCI_BUS_ID\" \n",
    "os.environ[\"CUDA_VISIBLE_DEVICES\"] = \"0\"\n",
    "import cv2\n",
    "import sys\n",
    "import numpy as np\n",
    "import glob\n",
    "import pickle as pkl\n",
    "from tqdm import tqdm\n",
    "import random\n",
    "import pandas as pd\n",
    "from collections import OrderedDict\n",
    "\n",
    "import keras\n",
    "import keras.backend as K\n",
    "from keras.models import model_from_json, Model, load_model\n",
    "from keras.layers import Dense, Dropout\n",
    "from keras.preprocessing import image as kpi\n",
    "\n",
    "from sklearn.metrics import roc_auc_score, accuracy_score\n",
    "\n",
    "import c3d_model"
   ]
  },
  {
   "cell_type": "code",
   "execution_count": null,
   "metadata": {},
   "outputs": [],
   "source": [
    "LABEL_PICKLE = '../../data/rand_label_404_with_optical_entropy_all_emotions.pkl'\n",
    "OPTICAL_FOLDER = './OpticalFlow/'\n",
    "ENTROPY_FOLDER = './entropy/'\n",
    "VIDEO_FOLDER = './video/'\n",
    "C3D_MODEL_FILE = './models/sports1M_weights_tf.h5'\n",
    "\n",
    "mean_cube = np.load('./models/train01_16_128_171_mean.npy')\n",
    "mean_cube = np.transpose(mean_cube, (1, 2, 3, 0))\n",
    "\n",
    "def create_c3d_model():\n",
    "    c3d = c3d_model.get_model(backend='tf')\n",
    "    c3d.load_weights(C3D_MODEL_FILE)\n",
    "    last_dropout_name = [layer.name for layer in c3d.layers[::-1] if layer.name[:7] == 'dropout'][0]\n",
    "    print(last_dropout_name)\n",
    "    output = Dense(2, activation='softmax')(c3d.get_layer(last_dropout_name).output)\n",
    "    model = Model(inputs=c3d.input, outputs=output)\n",
    "    \n",
    "    return model\n",
    "\n",
    "def get_split_label(test_id):\n",
    "    with open(LABEL_PICKLE, 'rb') as f:\n",
    "        data = pkl.load(f)\n",
    "    sub_folders = np.array_split(data, 5)\n",
    "    test = sub_folders[test_id]\n",
    "    train = [x for x in data if x not in test]\n",
    "    return train, test\n",
    "\n",
    "def get_single_image_data_from_label(label, emotion, etype, gt_type):\n",
    "    X = np.zeros((len(label), 16, 112, 112, 3))\n",
    "    Y = np.zeros((len(label), 2))\n",
    "    for i, row in enumerate(tqdm(label)):\n",
    "        name = str(int(row['Video ID'])).zfill(4)\n",
    "        if etype == 'optical':\n",
    "            image_path = glob.glob(OPTICAL_FOLDER+'{}_*.png'.format(name))\n",
    "        elif etype == 'entropy':\n",
    "            image_path = glob.glob(ENTROPY_FOLDER+'{}_*.png'.format(name))\n",
    "#         elif etype == 'dnn':\n",
    "#             image_path = glob.glob('/media/SeSaMe_NAS/share/sjfan/MMData404/DNNbase404/{}_*.jpg'.format(name)) \n",
    "        assert(len(image_path) == 1)\n",
    "        image_path = image_path[0]\n",
    "        image_data = get_image_data(image_path, mean_cube)\n",
    "        X[i] = image_data\n",
    "        if gt_type == 'optical' or gt_type == 'entropy':\n",
    "            Y[i] = [1, 0] if row[gt_type+'_'+emotion] < 0.5 else [0, 1]\n",
    "        elif gt_type == 'video':\n",
    "            Y[i] = [1, 0] if row[emotion] < 0.5 else [0, 1]\n",
    "    return X,Y\n",
    "\n",
    "def get_video_data_from_label(label, emotion):\n",
    "    X = np.zeros((len(label), 16, 112, 112, 3))\n",
    "    Y = np.zeros((len(label), 2))\n",
    "    for i, row in enumerate(tqdm(label)):\n",
    "        name = str(int(row['Video ID'])).zfill(4)\n",
    "        video_path = glob.glob(VIDEO_FOLDER+'{}_*.mp4'.format(name))\n",
    "        assert(len(video_path) == 1)\n",
    "        video_path = video_path[0]\n",
    "        X[i] = get_video_data(video_path, mean_cube)\n",
    "        Y[i] = [1, 0] if row[emotion] < 0.5 else [0, 1]\n",
    "    return X,Y"
   ]
  },
  {
   "cell_type": "markdown",
   "metadata": {},
   "source": [
    "# Create Model"
   ]
  },
  {
   "cell_type": "code",
   "execution_count": null,
   "metadata": {},
   "outputs": [],
   "source": [
    "model = create_c3d_model()\n",
    "model.compile(loss='mse', optimizer='sgd', metrics=['accuracy'])\n",
    "model.summary()"
   ]
  },
  {
   "cell_type": "code",
   "execution_count": null,
   "metadata": {},
   "outputs": [],
   "source": [
    "test_id = 0 # 0~4\n",
    "batch_size = 16\n",
    "epochs = 30\n",
    "emotion = 'Valence'\n",
    "vtype = 'video'\n",
    "\n",
    "train_label, test_label = get_split_label(test_id)\n",
    "if vtype == 'video':\n",
    "    train_x, train_y = get_video_data_from_label(train_label, emotion)\n",
    "elif vtype == 'entropy':\n",
    "    train_x, train_y = get_single_image_data_from_label(train_label, emotion, 'entropy', gt_type='entropy')\n",
    "elif vtype == 'optical':\n",
    "    train_x, train_y = get_single_image_data_from_label(train_label, emotion, 'optical', gt_type='optical')\n",
    "\n",
    "model.fit(train_x, train_y, batch_size=batch_size,epochs=epochs, \n",
    "              verbose=1)"
   ]
  }
 ],
 "metadata": {
  "kernelspec": {
   "display_name": "Python 3",
   "language": "python",
   "name": "python3"
  },
  "language_info": {
   "codemirror_mode": {
    "name": "ipython",
    "version": 3
   },
   "file_extension": ".py",
   "mimetype": "text/x-python",
   "name": "python",
   "nbconvert_exporter": "python",
   "pygments_lexer": "ipython3",
   "version": "3.6.5"
  }
 },
 "nbformat": 4,
 "nbformat_minor": 2
}
